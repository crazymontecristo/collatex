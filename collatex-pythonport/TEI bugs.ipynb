{
 "cells": [
  {
   "cell_type": "markdown",
   "metadata": {},
   "source": [
    "# TEI serialization issues\n",
    "\n",
    "## Introduction\n",
    "\n",
    "There is one bug and one uncertainty in CollateX TEI output. Here are the details.\n",
    "\n",
    "## Data\n",
    "\n",
    "The three witnesses read:\n",
    "\n",
    "* A: Hello h[pb/]orse goodbye\n",
    "* B: Hello hor[pb/]se goodbye\n",
    "* C: Hello bunny goodbye\n",
    "\n",
    "We've used square brackets instead of angle brackets because the SVG output tries to parse angle brackets as markup, instead of rendering them.\n",
    "\n",
    "After stripping page breaks, we expect A and B to agree against C, with variation only in the third token. The TEI serialization currently exhibits two bugs, one with two witnesses and one with three."
   ]
  },
  {
   "cell_type": "markdown",
   "metadata": {},
   "source": [
    "## Two witnesses\n",
    "\n",
    "### Create a collation object and add witnesses\n",
    "\n",
    "We print each token to verify that normalization is removing our fake page breaks."
   ]
  },
  {
   "cell_type": "code",
   "execution_count": 1,
   "metadata": {
    "collapsed": false
   },
   "outputs": [
    {
     "name": "stdout",
     "output_type": "stream",
     "text": [
      "{'t': 'Hello ', 'n': 'Hello'}\n",
      "{'t': 'h[pb/]orse ', 'n': 'horse'}\n",
      "{'t': 'goodbye', 'n': 'goodbye'}\n",
      "{'t': 'Hello ', 'n': 'Hello'}\n",
      "{'t': 'hor[pb/]se ', 'n': 'horse'}\n",
      "{'t': 'goodbye', 'n': 'goodbye'}\n"
     ]
    }
   ],
   "source": [
    "from collatex import *\n",
    "import re\n",
    "collation = Collation()\n",
    "def normalize(inputText):\n",
    "    result = re.sub(r'\\[.+?\\]',r'',inputText).rstrip()\n",
    "    return result\n",
    "def processToken(inputText):\n",
    "    result = {\"t\": inputText, \"n\": normalize(inputText)}\n",
    "    print(result)\n",
    "    return result\n",
    "def processWitness(inputText):\n",
    "    siglum, rdg = inputText\n",
    "    return {\"id\": siglum, \"tokens\": \\\n",
    "            [processToken(token) for token in re.findall(r'\\S+\\s*', rdg)]}\n",
    "witnesses = [('A', 'Hello h[pb/]orse goodbye'), ('B', 'Hello hor[pb/]se goodbye')]\n",
    "collation = {\"witnesses\": [processWitness(witness) for witness in witnesses]}"
   ]
  },
  {
   "cell_type": "markdown",
   "metadata": {},
   "source": [
    "### Plain text\n",
    "\n",
    "The plain text collation is correct, although we can't see which columns have agreement and which are aligned but don't agree."
   ]
  },
  {
   "cell_type": "code",
   "execution_count": 2,
   "metadata": {
    "collapsed": false
   },
   "outputs": [
    {
     "name": "stdout",
     "output_type": "stream",
     "text": [
      "+---+-------+------------+---------+\n",
      "| A | Hello | h[pb/]orse | goodbye |\n",
      "| B | Hello | hor[pb/]se | goodbye |\n",
      "+---+-------+------------+---------+\n"
     ]
    }
   ],
   "source": [
    "alignment_table = collate(collation, segmentation=False)\n",
    "print(alignment_table)"
   ]
  },
  {
   "cell_type": "markdown",
   "metadata": {},
   "source": [
    "### SVG\n",
    "\n",
    "SVG output is correct, and shows that A and B form a single token in the variant graph."
   ]
  },
  {
   "cell_type": "code",
   "execution_count": 3,
   "metadata": {
    "collapsed": false
   },
   "outputs": [
    {
     "data": {
      "image/svg+xml": [
       "<svg height=\"81pt\" viewBox=\"0.00 0.00 688.00 81.00\" width=\"688pt\" xmlns=\"http://www.w3.org/2000/svg\" xmlns:xlink=\"http://www.w3.org/1999/xlink\">\n",
       "<g class=\"graph\" id=\"graph0\" transform=\"scale(1 1) rotate(0) translate(4 77)\">\n",
       "<title>%3</title>\n",
       "<polygon fill=\"white\" points=\"-4,4 -4,-77 684,-77 684,4 -4,4\" stroke=\"none\"/>\n",
       "<!-- 1 -->\n",
       "<g class=\"node\" id=\"node1\"><title>1</title>\n",
       "<polygon fill=\"none\" points=\"54,-54.5 0,-54.5 0,-18.5 54,-18.5 54,-54.5\" stroke=\"black\"/>\n",
       "<text font-family=\"Times,serif\" font-size=\"14.00\" text-anchor=\"middle\" x=\"27\" y=\"-32.8\">1</text>\n",
       "</g>\n",
       "<!-- 3 -->\n",
       "<g class=\"node\" id=\"node3\"><title>3</title>\n",
       "<polygon fill=\"none\" points=\"209,-62.5 117,-62.5 117,-10.5 209,-10.5 209,-62.5\" stroke=\"black\"/>\n",
       "<polygon fill=\"none\" points=\"126,-36.5 126,-57.5 164,-57.5 164,-36.5 126,-36.5\" stroke=\"black\"/>\n",
       "<text font-family=\"Times,serif\" font-size=\"14.00\" font-weight=\"bold\" text-anchor=\"start\" x=\"129\" y=\"-44.3\">Hello</text>\n",
       "<polygon fill=\"none\" points=\"164,-36.5 164,-57.5 200,-57.5 200,-36.5 164,-36.5\" stroke=\"black\"/>\n",
       "<text font-family=\"Times,serif\" font-size=\"14.00\" font-weight=\"bold\" text-anchor=\"start\" x=\"167\" y=\"-44.3\">Sigla</text>\n",
       "<polygon fill=\"none\" points=\"126,-15.5 126,-36.5 164,-36.5 164,-15.5 126,-15.5\" stroke=\"black\"/>\n",
       "<text font-family=\"Bukyvede\" font-size=\"14.00\" text-anchor=\"start\" x=\"129\" y=\"-22.3\">Hello </text>\n",
       "<polygon fill=\"none\" points=\"164,-15.5 164,-36.5 200,-36.5 200,-15.5 164,-15.5\" stroke=\"black\"/>\n",
       "<text font-family=\"Times,serif\" font-size=\"14.00\" text-anchor=\"start\" x=\"167\" y=\"-22.3\">A, B</text>\n",
       "<polygon fill=\"none\" points=\"125,-14.5 125,-58.5 201,-58.5 201,-14.5 125,-14.5\" stroke=\"black\"/>\n",
       "</g>\n",
       "<!-- 1&#45;&gt;3 -->\n",
       "<g class=\"edge\" id=\"edge1\"><title>1-&gt;3</title>\n",
       "<path d=\"M54.1547,-36.5C69.1228,-36.5 88.4892,-36.5 106.672,-36.5\" fill=\"none\" stroke=\"black\"/>\n",
       "<polygon fill=\"black\" points=\"106.907,-40.0001 116.907,-36.5 106.907,-33.0001 106.907,-40.0001\" stroke=\"black\"/>\n",
       "<text font-family=\"Times,serif\" font-size=\"14.00\" text-anchor=\"middle\" x=\"85.5\" y=\"-40.3\">A, B</text>\n",
       "</g>\n",
       "<!-- 2 -->\n",
       "<g class=\"node\" id=\"node2\"><title>2</title>\n",
       "<polygon fill=\"none\" points=\"680,-54.5 626,-54.5 626,-18.5 680,-18.5 680,-54.5\" stroke=\"black\"/>\n",
       "<text font-family=\"Times,serif\" font-size=\"14.00\" text-anchor=\"middle\" x=\"653\" y=\"-32.8\">2</text>\n",
       "</g>\n",
       "<!-- 4 -->\n",
       "<g class=\"node\" id=\"node4\"><title>4</title>\n",
       "<polygon fill=\"none\" points=\"390,-73 272,-73 272,-0 390,-0 390,-73\" stroke=\"black\"/>\n",
       "<polygon fill=\"none\" points=\"281,-46.5 281,-67.5 345,-67.5 345,-46.5 281,-46.5\" stroke=\"black\"/>\n",
       "<text font-family=\"Times,serif\" font-size=\"14.00\" font-weight=\"bold\" text-anchor=\"start\" x=\"284\" y=\"-54.3\">horse</text>\n",
       "<polygon fill=\"none\" points=\"345,-46.5 345,-67.5 381,-67.5 381,-46.5 345,-46.5\" stroke=\"black\"/>\n",
       "<text font-family=\"Times,serif\" font-size=\"14.00\" font-weight=\"bold\" text-anchor=\"start\" x=\"348\" y=\"-54.3\">Sigla</text>\n",
       "<polygon fill=\"none\" points=\"281,-25.5 281,-46.5 345,-46.5 345,-25.5 281,-25.5\" stroke=\"black\"/>\n",
       "<text font-family=\"Bukyvede\" font-size=\"14.00\" text-anchor=\"start\" x=\"284\" y=\"-32.3\">h[pb/]orse </text>\n",
       "<polygon fill=\"none\" points=\"345,-25.5 345,-46.5 381,-46.5 381,-25.5 345,-25.5\" stroke=\"black\"/>\n",
       "<text font-family=\"Times,serif\" font-size=\"14.00\" text-anchor=\"start\" x=\"348\" y=\"-32.3\">A</text>\n",
       "<polygon fill=\"none\" points=\"281,-4.5 281,-25.5 345,-25.5 345,-4.5 281,-4.5\" stroke=\"black\"/>\n",
       "<text font-family=\"Bukyvede\" font-size=\"14.00\" text-anchor=\"start\" x=\"284\" y=\"-11.3\">hor[pb/]se </text>\n",
       "<polygon fill=\"none\" points=\"345,-4.5 345,-25.5 381,-25.5 381,-4.5 345,-4.5\" stroke=\"black\"/>\n",
       "<text font-family=\"Times,serif\" font-size=\"14.00\" text-anchor=\"start\" x=\"348\" y=\"-11.3\">B</text>\n",
       "<polygon fill=\"none\" points=\"280,-4 280,-69 382,-69 382,-4 280,-4\" stroke=\"black\"/>\n",
       "</g>\n",
       "<!-- 3&#45;&gt;4 -->\n",
       "<g class=\"edge\" id=\"edge2\"><title>3-&gt;4</title>\n",
       "<path d=\"M209.36,-36.5C225.49,-36.5 244.025,-36.5 261.65,-36.5\" fill=\"none\" stroke=\"black\"/>\n",
       "<polygon fill=\"black\" points=\"261.898,-40.0001 271.898,-36.5 261.898,-33.0001 261.898,-40.0001\" stroke=\"black\"/>\n",
       "<text font-family=\"Times,serif\" font-size=\"14.00\" text-anchor=\"middle\" x=\"240.5\" y=\"-40.3\">A, B</text>\n",
       "</g>\n",
       "<!-- 5 -->\n",
       "<g class=\"node\" id=\"node5\"><title>5</title>\n",
       "<polygon fill=\"none\" points=\"563,-62.5 453,-62.5 453,-10.5 563,-10.5 563,-62.5\" stroke=\"black\"/>\n",
       "<polygon fill=\"none\" points=\"462,-36.5 462,-57.5 518,-57.5 518,-36.5 462,-36.5\" stroke=\"black\"/>\n",
       "<text font-family=\"Times,serif\" font-size=\"14.00\" font-weight=\"bold\" text-anchor=\"start\" x=\"465\" y=\"-44.3\">goodbye</text>\n",
       "<polygon fill=\"none\" points=\"518,-36.5 518,-57.5 554,-57.5 554,-36.5 518,-36.5\" stroke=\"black\"/>\n",
       "<text font-family=\"Times,serif\" font-size=\"14.00\" font-weight=\"bold\" text-anchor=\"start\" x=\"521\" y=\"-44.3\">Sigla</text>\n",
       "<polygon fill=\"none\" points=\"462,-15.5 462,-36.5 518,-36.5 518,-15.5 462,-15.5\" stroke=\"black\"/>\n",
       "<text font-family=\"Bukyvede\" font-size=\"14.00\" text-anchor=\"start\" x=\"465\" y=\"-22.3\">goodbye</text>\n",
       "<polygon fill=\"none\" points=\"518,-15.5 518,-36.5 554,-36.5 554,-15.5 518,-15.5\" stroke=\"black\"/>\n",
       "<text font-family=\"Times,serif\" font-size=\"14.00\" text-anchor=\"start\" x=\"521\" y=\"-22.3\">A, B</text>\n",
       "<polygon fill=\"none\" points=\"461,-14.5 461,-58.5 555,-58.5 555,-14.5 461,-14.5\" stroke=\"black\"/>\n",
       "</g>\n",
       "<!-- 4&#45;&gt;5 -->\n",
       "<g class=\"edge\" id=\"edge3\"><title>4-&gt;5</title>\n",
       "<path d=\"M390.272,-36.5C406.987,-36.5 425.31,-36.5 442.383,-36.5\" fill=\"none\" stroke=\"black\"/>\n",
       "<polygon fill=\"black\" points=\"442.826,-40.0001 452.825,-36.5 442.825,-33.0001 442.826,-40.0001\" stroke=\"black\"/>\n",
       "<text font-family=\"Times,serif\" font-size=\"14.00\" text-anchor=\"middle\" x=\"421.5\" y=\"-40.3\">A, B</text>\n",
       "</g>\n",
       "<!-- 5&#45;&gt;2 -->\n",
       "<g class=\"edge\" id=\"edge4\"><title>5-&gt;2</title>\n",
       "<path d=\"M563.062,-36.5C580.71,-36.5 599.866,-36.5 615.865,-36.5\" fill=\"none\" stroke=\"black\"/>\n",
       "<polygon fill=\"black\" points=\"615.876,-40.0001 625.876,-36.5 615.876,-33.0001 615.876,-40.0001\" stroke=\"black\"/>\n",
       "<text font-family=\"Times,serif\" font-size=\"14.00\" text-anchor=\"middle\" x=\"594.5\" y=\"-40.3\">A, B</text>\n",
       "</g>\n",
       "</g>\n",
       "</svg>"
      ],
      "text/plain": [
       "<IPython.core.display.SVG object>"
      ]
     },
     "metadata": {},
     "output_type": "display_data"
    }
   ],
   "source": [
    "collate(collation, segmentation=False, output=\"svg\")"
   ]
  },
  {
   "cell_type": "markdown",
   "metadata": {},
   "source": [
    "### HTML2\n",
    "\n",
    "HTML2 also shows that the second token has no variation after normalization."
   ]
  },
  {
   "cell_type": "code",
   "execution_count": 4,
   "metadata": {
    "collapsed": false
   },
   "outputs": [
    {
     "data": {
      "text/html": [
       "<TABLE border=\"1\" style=\"border: 1px solid #000000; border-collapse: collapse;\" cellpadding=\"4\">\n",
       " <TR>\n",
       "  <TH>A</TH>\n",
       "  <TH>B</TH>\n",
       " </TR>\n",
       " <TR>\n",
       "  <TD bgcolor=\"00FF00\">Hello</TD>\n",
       "  <TD bgcolor=\"00FF00\">Hello</TD>\n",
       " </TR>\n",
       " <TR>\n",
       "  <TD bgcolor=\"00FF00\">h[pb/]orse</TD>\n",
       "  <TD bgcolor=\"00FF00\">hor[pb/]se</TD>\n",
       " </TR>\n",
       " <TR>\n",
       "  <TD bgcolor=\"00FF00\">goodbye</TD>\n",
       "  <TD bgcolor=\"00FF00\">goodbye</TD>\n",
       " </TR>\n",
       "</TABLE>"
      ],
      "text/plain": [
       "<IPython.core.display.HTML object>"
      ]
     },
     "metadata": {},
     "output_type": "display_data"
    }
   ],
   "source": [
    "collate(collation, segmentation=False, output=\"html2\")"
   ]
  },
  {
   "cell_type": "markdown",
   "metadata": {},
   "source": [
    "### XML\n",
    "\n",
    "XML output is correct. Like the plain text table, it doesn’t distinguish moments of agreement from moments of variation"
   ]
  },
  {
   "cell_type": "code",
   "execution_count": 5,
   "metadata": {
    "collapsed": false
   },
   "outputs": [
    {
     "name": "stdout",
     "output_type": "stream",
     "text": [
      "<root><app><rdg wit=\"#A\">Hello </rdg><rdg wit=\"#B\">Hello </rdg></app><app><rdg wit=\"#A\">h[pb/]orse </rdg><rdg wit=\"#B\">hor[pb/]se </rdg></app><app><rdg wit=\"#A\">goodbye</rdg><rdg wit=\"#B\">goodbye</rdg></app></root>\n"
     ]
    }
   ],
   "source": [
    "xml_output = collate(collation, segmentation=False, output=\"xml\")\n",
    "print(xml_output)"
   ]
  },
  {
   "cell_type": "markdown",
   "metadata": {},
   "source": [
    "### TEI\n",
    "\n",
    "**Bug** TEI output outputs only the third token."
   ]
  },
  {
   "cell_type": "code",
   "execution_count": 6,
   "metadata": {
    "collapsed": false
   },
   "outputs": [
    {
     "name": "stdout",
     "output_type": "stream",
     "text": [
      "<p>goodbye\n",
      "</p>\n"
     ]
    }
   ],
   "source": [
    "tei_output = collate(collation, segmentation=False, output=\"tei\", indent=True)\n",
    "print(tei_output)"
   ]
  },
  {
   "cell_type": "markdown",
   "metadata": {},
   "source": [
    "## Three witnesses\n",
    "\n",
    "Now we add a third witness, which differs after normalization from the other two."
   ]
  },
  {
   "cell_type": "code",
   "execution_count": 7,
   "metadata": {
    "collapsed": false
   },
   "outputs": [
    {
     "name": "stdout",
     "output_type": "stream",
     "text": [
      "{'t': 'Hello ', 'n': 'Hello'}\n",
      "{'t': 'h[pb/]orse ', 'n': 'horse'}\n",
      "{'t': 'goodbye', 'n': 'goodbye'}\n",
      "{'t': 'Hello ', 'n': 'Hello'}\n",
      "{'t': 'hor[pb/]se ', 'n': 'horse'}\n",
      "{'t': 'goodbye', 'n': 'goodbye'}\n",
      "{'t': 'Hello ', 'n': 'Hello'}\n",
      "{'t': 'bunny ', 'n': 'bunny'}\n",
      "{'t': 'goodbye', 'n': 'goodbye'}\n"
     ]
    }
   ],
   "source": [
    "witnesses = [('A', 'Hello h[pb/]orse goodbye'), ('B', 'Hello hor[pb/]se goodbye'), ('C', 'Hello bunny goodbye')]\n",
    "collation = {\"witnesses\": [processWitness(witness) for witness in witnesses]}"
   ]
  },
  {
   "cell_type": "markdown",
   "metadata": {},
   "source": [
    "### Plain text\n",
    "\n",
    "Plain text output is correct, but, as with two witnesses, it doesn’t show which columns are aligned and which are not"
   ]
  },
  {
   "cell_type": "code",
   "execution_count": 8,
   "metadata": {
    "collapsed": false
   },
   "outputs": [
    {
     "name": "stdout",
     "output_type": "stream",
     "text": [
      "+---+-------+------------+---------+\n",
      "| A | Hello | h[pb/]orse | goodbye |\n",
      "| B | Hello | hor[pb/]se | goodbye |\n",
      "| C | Hello | bunny      | goodbye |\n",
      "+---+-------+------------+---------+\n"
     ]
    }
   ],
   "source": [
    "alignment_table = collate(collation, segmentation=False)\n",
    "print(alignment_table)"
   ]
  },
  {
   "cell_type": "markdown",
   "metadata": {},
   "source": [
    "### SVG\n",
    "\n",
    "SVG output shows that the witnesses with page breaks are placed correctly on the same token"
   ]
  },
  {
   "cell_type": "code",
   "execution_count": 9,
   "metadata": {
    "collapsed": false
   },
   "outputs": [
    {
     "data": {
      "image/svg+xml": [
       "<svg height=\"152pt\" viewBox=\"0.00 0.00 746.00 151.50\" width=\"746pt\" xmlns=\"http://www.w3.org/2000/svg\" xmlns:xlink=\"http://www.w3.org/1999/xlink\">\n",
       "<g class=\"graph\" id=\"graph0\" transform=\"scale(1 1) rotate(0) translate(4 147.5)\">\n",
       "<title>%3</title>\n",
       "<polygon fill=\"white\" points=\"-4,4 -4,-147.5 742,-147.5 742,4 -4,4\" stroke=\"none\"/>\n",
       "<!-- 1 -->\n",
       "<g class=\"node\" id=\"node1\"><title>1</title>\n",
       "<polygon fill=\"none\" points=\"54,-89 0,-89 0,-53 54,-53 54,-89\" stroke=\"black\"/>\n",
       "<text font-family=\"Times,serif\" font-size=\"14.00\" text-anchor=\"middle\" x=\"27\" y=\"-67.3\">1</text>\n",
       "</g>\n",
       "<!-- 3 -->\n",
       "<g class=\"node\" id=\"node3\"><title>3</title>\n",
       "<polygon fill=\"none\" points=\"238,-97 133,-97 133,-45 238,-45 238,-97\" stroke=\"black\"/>\n",
       "<polygon fill=\"none\" points=\"142.5,-71 142.5,-92 180.5,-92 180.5,-71 142.5,-71\" stroke=\"black\"/>\n",
       "<text font-family=\"Times,serif\" font-size=\"14.00\" font-weight=\"bold\" text-anchor=\"start\" x=\"145.5\" y=\"-78.8\">Hello</text>\n",
       "<polygon fill=\"none\" points=\"180.5,-71 180.5,-92 229.5,-92 229.5,-71 180.5,-71\" stroke=\"black\"/>\n",
       "<text font-family=\"Times,serif\" font-size=\"14.00\" font-weight=\"bold\" text-anchor=\"start\" x=\"183.5\" y=\"-78.8\">Sigla</text>\n",
       "<polygon fill=\"none\" points=\"142.5,-50 142.5,-71 180.5,-71 180.5,-50 142.5,-50\" stroke=\"black\"/>\n",
       "<text font-family=\"Bukyvede\" font-size=\"14.00\" text-anchor=\"start\" x=\"145.5\" y=\"-56.8\">Hello </text>\n",
       "<polygon fill=\"none\" points=\"180.5,-50 180.5,-71 229.5,-71 229.5,-50 180.5,-50\" stroke=\"black\"/>\n",
       "<text font-family=\"Times,serif\" font-size=\"14.00\" text-anchor=\"start\" x=\"183.5\" y=\"-56.8\">A, B, C</text>\n",
       "<polygon fill=\"none\" points=\"141,-49 141,-93 230,-93 230,-49 141,-49\" stroke=\"black\"/>\n",
       "</g>\n",
       "<!-- 1&#45;&gt;3 -->\n",
       "<g class=\"edge\" id=\"edge1\"><title>1-&gt;3</title>\n",
       "<path d=\"M54.1946,-71C72.9246,-71 98.9368,-71 122.798,-71\" fill=\"none\" stroke=\"black\"/>\n",
       "<polygon fill=\"black\" points=\"122.865,-74.5001 132.865,-71 122.865,-67.5001 122.865,-74.5001\" stroke=\"black\"/>\n",
       "<text font-family=\"Times,serif\" font-size=\"14.00\" text-anchor=\"middle\" x=\"93.5\" y=\"-74.8\">A, B, C</text>\n",
       "</g>\n",
       "<!-- 2 -->\n",
       "<g class=\"node\" id=\"node2\"><title>2</title>\n",
       "<polygon fill=\"none\" points=\"738,-89 684,-89 684,-53 738,-53 738,-89\" stroke=\"black\"/>\n",
       "<text font-family=\"Times,serif\" font-size=\"14.00\" text-anchor=\"middle\" x=\"711\" y=\"-67.3\">2</text>\n",
       "</g>\n",
       "<!-- 4 -->\n",
       "<g class=\"node\" id=\"node4\"><title>4</title>\n",
       "<polygon fill=\"none\" points=\"419,-143.5 301,-143.5 301,-70.5 419,-70.5 419,-143.5\" stroke=\"black\"/>\n",
       "<polygon fill=\"none\" points=\"310,-117 310,-138 374,-138 374,-117 310,-117\" stroke=\"black\"/>\n",
       "<text font-family=\"Times,serif\" font-size=\"14.00\" font-weight=\"bold\" text-anchor=\"start\" x=\"313\" y=\"-124.8\">horse</text>\n",
       "<polygon fill=\"none\" points=\"374,-117 374,-138 410,-138 410,-117 374,-117\" stroke=\"black\"/>\n",
       "<text font-family=\"Times,serif\" font-size=\"14.00\" font-weight=\"bold\" text-anchor=\"start\" x=\"377\" y=\"-124.8\">Sigla</text>\n",
       "<polygon fill=\"none\" points=\"310,-96 310,-117 374,-117 374,-96 310,-96\" stroke=\"black\"/>\n",
       "<text font-family=\"Bukyvede\" font-size=\"14.00\" text-anchor=\"start\" x=\"313\" y=\"-102.8\">h[pb/]orse </text>\n",
       "<polygon fill=\"none\" points=\"374,-96 374,-117 410,-117 410,-96 374,-96\" stroke=\"black\"/>\n",
       "<text font-family=\"Times,serif\" font-size=\"14.00\" text-anchor=\"start\" x=\"377\" y=\"-102.8\">A</text>\n",
       "<polygon fill=\"none\" points=\"310,-75 310,-96 374,-96 374,-75 310,-75\" stroke=\"black\"/>\n",
       "<text font-family=\"Bukyvede\" font-size=\"14.00\" text-anchor=\"start\" x=\"313\" y=\"-81.8\">hor[pb/]se </text>\n",
       "<polygon fill=\"none\" points=\"374,-75 374,-96 410,-96 410,-75 374,-75\" stroke=\"black\"/>\n",
       "<text font-family=\"Times,serif\" font-size=\"14.00\" text-anchor=\"start\" x=\"377\" y=\"-81.8\">B</text>\n",
       "<polygon fill=\"none\" points=\"309,-74.5 309,-139.5 411,-139.5 411,-74.5 309,-74.5\" stroke=\"black\"/>\n",
       "</g>\n",
       "<!-- 3&#45;&gt;4 -->\n",
       "<g class=\"edge\" id=\"edge2\"><title>3-&gt;4</title>\n",
       "<path d=\"M238.256,-81.8012C254.764,-85.2465 273.292,-89.1131 290.783,-92.7635\" fill=\"none\" stroke=\"black\"/>\n",
       "<polygon fill=\"black\" points=\"290.435,-96.2662 300.939,-94.883 291.865,-89.4138 290.435,-96.2662\" stroke=\"black\"/>\n",
       "<text font-family=\"Times,serif\" font-size=\"14.00\" text-anchor=\"middle\" x=\"269.5\" y=\"-93.8\">A, B</text>\n",
       "</g>\n",
       "<!-- 6 -->\n",
       "<g class=\"node\" id=\"node6\"><title>6</title>\n",
       "<polygon fill=\"none\" points=\"409.5,-52 310.5,-52 310.5,-0 409.5,-0 409.5,-52\" stroke=\"black\"/>\n",
       "<polygon fill=\"none\" points=\"320,-26 320,-47 365,-47 365,-26 320,-26\" stroke=\"black\"/>\n",
       "<text font-family=\"Times,serif\" font-size=\"14.00\" font-weight=\"bold\" text-anchor=\"start\" x=\"323\" y=\"-33.8\">bunny</text>\n",
       "<polygon fill=\"none\" points=\"365,-26 365,-47 401,-47 401,-26 365,-26\" stroke=\"black\"/>\n",
       "<text font-family=\"Times,serif\" font-size=\"14.00\" font-weight=\"bold\" text-anchor=\"start\" x=\"368\" y=\"-33.8\">Sigla</text>\n",
       "<polygon fill=\"none\" points=\"320,-5 320,-26 365,-26 365,-5 320,-5\" stroke=\"black\"/>\n",
       "<text font-family=\"Bukyvede\" font-size=\"14.00\" text-anchor=\"start\" x=\"323\" y=\"-11.8\">bunny </text>\n",
       "<polygon fill=\"none\" points=\"365,-5 365,-26 401,-26 401,-5 365,-5\" stroke=\"black\"/>\n",
       "<text font-family=\"Times,serif\" font-size=\"14.00\" text-anchor=\"start\" x=\"368\" y=\"-11.8\">C</text>\n",
       "<polygon fill=\"none\" points=\"318.5,-4 318.5,-48 401.5,-48 401.5,-4 318.5,-4\" stroke=\"black\"/>\n",
       "</g>\n",
       "<!-- 3&#45;&gt;6 -->\n",
       "<g class=\"edge\" id=\"edge3\"><title>3-&gt;6</title>\n",
       "<path d=\"M238.256,-57.4985C257.871,-52.3814 280.336,-46.5209 300.528,-41.2536\" fill=\"none\" stroke=\"black\"/>\n",
       "<polygon fill=\"black\" points=\"301.442,-44.6323 310.235,-38.7213 299.675,-37.859 301.442,-44.6323\" stroke=\"black\"/>\n",
       "<text font-family=\"Times,serif\" font-size=\"14.00\" text-anchor=\"middle\" x=\"269.5\" y=\"-56.8\">C</text>\n",
       "</g>\n",
       "<!-- 5 -->\n",
       "<g class=\"node\" id=\"node5\"><title>5</title>\n",
       "<polygon fill=\"none\" points=\"605,-97 482,-97 482,-45 605,-45 605,-97\" stroke=\"black\"/>\n",
       "<polygon fill=\"none\" points=\"491.5,-71 491.5,-92 547.5,-92 547.5,-71 491.5,-71\" stroke=\"black\"/>\n",
       "<text font-family=\"Times,serif\" font-size=\"14.00\" font-weight=\"bold\" text-anchor=\"start\" x=\"494.5\" y=\"-78.8\">goodbye</text>\n",
       "<polygon fill=\"none\" points=\"547.5,-71 547.5,-92 596.5,-92 596.5,-71 547.5,-71\" stroke=\"black\"/>\n",
       "<text font-family=\"Times,serif\" font-size=\"14.00\" font-weight=\"bold\" text-anchor=\"start\" x=\"550.5\" y=\"-78.8\">Sigla</text>\n",
       "<polygon fill=\"none\" points=\"491.5,-50 491.5,-71 547.5,-71 547.5,-50 491.5,-50\" stroke=\"black\"/>\n",
       "<text font-family=\"Bukyvede\" font-size=\"14.00\" text-anchor=\"start\" x=\"494.5\" y=\"-56.8\">goodbye</text>\n",
       "<polygon fill=\"none\" points=\"547.5,-50 547.5,-71 596.5,-71 596.5,-50 547.5,-50\" stroke=\"black\"/>\n",
       "<text font-family=\"Times,serif\" font-size=\"14.00\" text-anchor=\"start\" x=\"550.5\" y=\"-56.8\">A, B, C</text>\n",
       "<polygon fill=\"none\" points=\"490,-49 490,-93 597,-93 597,-49 490,-49\" stroke=\"black\"/>\n",
       "</g>\n",
       "<!-- 4&#45;&gt;5 -->\n",
       "<g class=\"edge\" id=\"edge4\"><title>4-&gt;5</title>\n",
       "<path d=\"M419.177,-95.4608C435.905,-92.1428 454.336,-88.487 471.736,-85.0358\" fill=\"none\" stroke=\"black\"/>\n",
       "<polygon fill=\"black\" points=\"472.713,-88.4103 481.841,-83.0316 471.351,-81.5441 472.713,-88.4103\" stroke=\"black\"/>\n",
       "<text font-family=\"Times,serif\" font-size=\"14.00\" text-anchor=\"middle\" x=\"450.5\" y=\"-94.8\">A, B</text>\n",
       "</g>\n",
       "<!-- 5&#45;&gt;2 -->\n",
       "<g class=\"edge\" id=\"edge5\"><title>5-&gt;2</title>\n",
       "<path d=\"M605.186,-71C628.177,-71 653.619,-71 673.678,-71\" fill=\"none\" stroke=\"black\"/>\n",
       "<polygon fill=\"black\" points=\"673.927,-74.5001 683.927,-71 673.927,-67.5001 673.927,-74.5001\" stroke=\"black\"/>\n",
       "<text font-family=\"Times,serif\" font-size=\"14.00\" text-anchor=\"middle\" x=\"644.5\" y=\"-74.8\">A, B, C</text>\n",
       "</g>\n",
       "<!-- 6&#45;&gt;5 -->\n",
       "<g class=\"edge\" id=\"edge6\"><title>6-&gt;5</title>\n",
       "<path d=\"M409.639,-38.0592C428.766,-42.8014 451.099,-48.3387 471.937,-53.5051\" fill=\"none\" stroke=\"black\"/>\n",
       "<polygon fill=\"black\" points=\"471.158,-56.9178 481.706,-55.9272 472.842,-50.1235 471.158,-56.9178\" stroke=\"black\"/>\n",
       "<text font-family=\"Times,serif\" font-size=\"14.00\" text-anchor=\"middle\" x=\"450.5\" y=\"-55.8\">C</text>\n",
       "</g>\n",
       "</g>\n",
       "</svg>"
      ],
      "text/plain": [
       "<IPython.core.display.SVG object>"
      ]
     },
     "metadata": {},
     "output_type": "display_data"
    }
   ],
   "source": [
    "collate(collation, segmentation=False, output=\"svg\")"
   ]
  },
  {
   "cell_type": "markdown",
   "metadata": {},
   "source": [
    "### HTML2\n",
    "\n",
    "HTML2 correctly shows that there is variation in the second token, but not the third. It is not able to show which witnesses agree"
   ]
  },
  {
   "cell_type": "code",
   "execution_count": 10,
   "metadata": {
    "collapsed": false
   },
   "outputs": [
    {
     "data": {
      "text/html": [
       "<TABLE border=\"1\" style=\"border: 1px solid #000000; border-collapse: collapse;\" cellpadding=\"4\">\n",
       " <TR>\n",
       "  <TH>A</TH>\n",
       "  <TH>B</TH>\n",
       "  <TH>C</TH>\n",
       " </TR>\n",
       " <TR>\n",
       "  <TD bgcolor=\"00FF00\">Hello</TD>\n",
       "  <TD bgcolor=\"00FF00\">Hello</TD>\n",
       "  <TD bgcolor=\"00FF00\">Hello</TD>\n",
       " </TR>\n",
       " <TR>\n",
       "  <TD bgcolor=\"FF0000\">h[pb/]orse</TD>\n",
       "  <TD bgcolor=\"FF0000\">hor[pb/]se</TD>\n",
       "  <TD bgcolor=\"FF0000\">bunny</TD>\n",
       " </TR>\n",
       " <TR>\n",
       "  <TD bgcolor=\"00FF00\">goodbye</TD>\n",
       "  <TD bgcolor=\"00FF00\">goodbye</TD>\n",
       "  <TD bgcolor=\"00FF00\">goodbye</TD>\n",
       " </TR>\n",
       "</TABLE>"
      ],
      "text/plain": [
       "<IPython.core.display.HTML object>"
      ]
     },
     "metadata": {},
     "output_type": "display_data"
    }
   ],
   "source": [
    "collate(collation, segmentation=False, output=\"html2\")"
   ]
  },
  {
   "cell_type": "markdown",
   "metadata": {},
   "source": [
    "### XML\n",
    "\n",
    "XML output is correct, but does not show which positions agree and which disagree, or which witnesses agree with which in moments of variation"
   ]
  },
  {
   "cell_type": "code",
   "execution_count": 11,
   "metadata": {
    "collapsed": false
   },
   "outputs": [
    {
     "name": "stdout",
     "output_type": "stream",
     "text": [
      "<root><app><rdg wit=\"#A\">Hello </rdg><rdg wit=\"#B\">Hello </rdg><rdg wit=\"#C\">Hello </rdg></app><app><rdg wit=\"#A\">h[pb/]orse </rdg><rdg wit=\"#B\">hor[pb/]se </rdg><rdg wit=\"#C\">bunny </rdg></app><app><rdg wit=\"#A\">goodbye</rdg><rdg wit=\"#B\">goodbye</rdg><rdg wit=\"#C\">goodbye</rdg></app></root>\n"
     ]
    }
   ],
   "source": [
    "xml_output = collate(collation, segmentation=False, output=\"xml\")\n",
    "print(xml_output)"
   ]
  },
  {
   "cell_type": "markdown",
   "metadata": {},
   "source": [
    "### TEI\n",
    "\n",
    "**Issue** TEI outputs all three `<app>` elements this time, but it outputs A and B in separate `<rdg>` elements. It is not entirely clear whether this is the desired behavior. "
   ]
  },
  {
   "cell_type": "code",
   "execution_count": 12,
   "metadata": {
    "collapsed": false
   },
   "outputs": [
    {
     "name": "stdout",
     "output_type": "stream",
     "text": [
      "<p>Hello\n",
      "<app>\n",
      "  <rdg wit=\"#A\">h[pb/]orse </rdg>\n",
      "  <rdg wit=\"#B\">hor[pb/]se </rdg>\n",
      "  <rdg wit=\"#C\">bunny </rdg>\n",
      "</app>\n",
      "\n",
      "goodbye\n",
      "</p>\n"
     ]
    }
   ],
   "source": [
    "tei_output = collate(collation, segmentation=False, output=\"tei\", indent=True)\n",
    "print(tei_output)"
   ]
  },
  {
   "cell_type": "markdown",
   "metadata": {},
   "source": [
    "### Issues\n",
    "\n",
    "If A and B are output as part of the same `<rdg>` element, it is unclear what the correct output should be. There are several possibilities, none of which is clearly correct, or even satisfactory:\n",
    "\n",
    "* Output the \"n\" value, which is the same for A and B. This is wrong because elsewhere we output \"t\", and not \"n\".\n",
    "* Output one or the other \"t\" value arbitrarily. This is wrong because it’s arbitrary.\n",
    "* Output both \"t\" values, along the lines of \"h[pb/]orse ~ hor[pb/]se\". This is wrong because if we care about both of them, it’s a moment of variation, and it belongs in the apparatus.\n",
    "* Merge the \"t\" values into something like \"h[pb/]or[pb/]se\". This is wrong because, although it may be reasonably clear for page breaks (clearer if they include attributes that identify the edition, which we could add during the normalization step), it would become confusing with variation involving regular characters, e.g., capitalization or variant spellings.\n",
    "* Output the \"t\" value from the \"best witness\". This is challenging not only because there isn’t necessarily a best witnesses, but also because, at least at the moment, the TEI output doesn’t know about preferred witnesses.\n",
    "\n",
    "There is also the option of saying that \"n\" is just for alignment, and when it comes to output, if the \"t\" values are different, they should be in different `<rdg>` elements. This would let us express satisfaction with the current behavior, but this isn’t the only (or even the most likely) situation where we have different \"t\" values paired with the same \"n\". More likely is that \"t\" values may differ only in whether they have trailing white space, and in that case we don’t want to output them in separate `<rdg>` elements. We could work around that by stripping trailing white space from the \"t\" values, and not only from the \"n\", but that works only as long as we turn off segmentation, since otherwise the words would run together."
   ]
  }
 ],
 "metadata": {
  "kernelspec": {
   "display_name": "Python 3",
   "language": "python",
   "name": "python3"
  },
  "language_info": {
   "codemirror_mode": {
    "name": "ipython",
    "version": 3
   },
   "file_extension": ".py",
   "mimetype": "text/x-python",
   "name": "python",
   "nbconvert_exporter": "python",
   "pygments_lexer": "ipython3",
   "version": "3.6.0"
  }
 },
 "nbformat": 4,
 "nbformat_minor": 2
}
