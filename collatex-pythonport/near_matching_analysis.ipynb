{
 "cells": [
  {
   "cell_type": "markdown",
   "metadata": {},
   "source": [
    "# Near matching tests\n",
    "Near matching as of 2016-07-23 (djb)"
   ]
  },
  {
   "cell_type": "markdown",
   "metadata": {},
   "source": [
    "## Analytic framework\n",
    "The witnesses start and end with perfect matches (*abcd* and *efgh*, respectively). Witness **A** has one token in the middle (*0123*) and witness **B** has two (*012x*, *01xx*) or three (*012x*, *01xx*, *0xxx*). The two or three candidates for alignment in witness **B** are all partial matches to the middle token in **A**, with different degrees of similarity. All permutations of the candidates in **B** are tested to determine whether **A** is aligned with the correct one.\n",
    "\n",
    "## How near matching works\n",
    "1. Walking from right to left through the ranks, find ranks where not all witnesses are present (*gaps*).\n",
    "1. At each rank with a gap, walk through the witnesses in alphabetical order.\n",
    "1. For each witness at a gap, scan left until you hit the first node with a reading for that witness (or the start node). Whatever you hit is the *prior node*.\n",
    "1. Build a *near match table* of distances between the token at the prior node and each rank from the prior node rank through the rank with the gap being processed. \n",
    "1. Verify that there is a *need* to move: the match at the current location of the token (the prior node) has to be lower than the match at some other rank in the near match table.\n",
    "1. Verify that it is *possible* to move:\n",
    "    1. The prior node must have tokens (it can't be the start node).\n",
    "    1. The prior node cannot contain any witness already present in any node at the current rank, since we can't wind up with two tokens for the same witness at a single rank.\n",
    "1. If moving is both necessary and possible, move the token to the new location. Otherwise leave it where it is.\n",
    "1. Continue until all gaps in all witnesses at all ranks have been processed."
   ]
  },
  {
   "cell_type": "markdown",
   "metadata": {},
   "source": [
    "## Without near matching, candidate always stays left, even if right is closer\n",
    "Not the desired output: Here *0123* in **A** is closer to *012x* (right) than to *01xx* (left), but it stays left anyway."
   ]
  },
  {
   "cell_type": "code",
   "execution_count": 198,
   "metadata": {
    "collapsed": false
   },
   "outputs": [
    {
     "name": "stdout",
     "output_type": "stream",
     "text": [
      "+---+------+------+------+------+\n",
      "| A | abcd | 0123 | -    | efgh |\n",
      "| B | abcd | 01xx | 012x | efgh |\n",
      "+---+------+------+------+------+\n"
     ]
    }
   ],
   "source": [
    "%reload_ext autoreload\n",
    "%autoreload 2\n",
    "from collatex import *\n",
    "collation = Collation()\n",
    "collation.add_plain_witness(\"A\", \"abcd 0123 efgh\")\n",
    "collation.add_plain_witness(\"B\", \"abcd 01xx 012x efgh\")\n",
    "alignment_table = collate(collation, segmentation=False)\n",
    "print(alignment_table)"
   ]
  },
  {
   "cell_type": "markdown",
   "metadata": {},
   "source": [
    "## With near matching and two choices, candidate is aligned correctly"
   ]
  },
  {
   "cell_type": "markdown",
   "metadata": {},
   "source": [
    "In the example below, *0123* in **A** is closer to *012x* (left) in **B**, and it correctly stays left."
   ]
  },
  {
   "cell_type": "code",
   "execution_count": 199,
   "metadata": {
    "collapsed": false
   },
   "outputs": [
    {
     "name": "stdout",
     "output_type": "stream",
     "text": [
      "+---+------+------+------+------+\n",
      "| A | abcd | 0123 | -    | efgh |\n",
      "| B | abcd | 012x | 01xx | efgh |\n",
      "+---+------+------+------+------+\n"
     ]
    }
   ],
   "source": [
    "# Two candidates\n",
    "# Closer match is left, no movement\n",
    "collation = Collation()\n",
    "collation.add_plain_witness(\"A\", \"abcd 0123 efgh\")\n",
    "collation.add_plain_witness(\"B\", \"abcd 012x 01xx efgh\")\n",
    "alignment_table = collate(collation, near_match=True, segmentation=False)\n",
    "print(alignment_table)"
   ]
  },
  {
   "cell_type": "markdown",
   "metadata": {},
   "source": [
    "In the example below, *0123* in **A** is closer to *012x* (right) in **B**, and it correctly moves right."
   ]
  },
  {
   "cell_type": "code",
   "execution_count": 200,
   "metadata": {
    "collapsed": false
   },
   "outputs": [
    {
     "name": "stdout",
     "output_type": "stream",
     "text": [
      "+---+------+------+------+------+\n",
      "| A | abcd | -    | 0123 | efgh |\n",
      "| B | abcd | 01xx | 012x | efgh |\n",
      "+---+------+------+------+------+\n"
     ]
    }
   ],
   "source": [
    "# Two candidates\n",
    "# Same input as above, but closer match is right, so moves\n",
    "collation = Collation()\n",
    "collation.add_plain_witness(\"A\", \"abcd 0123 efgh\")\n",
    "collation.add_plain_witness(\"B\", \"abcd 01xx 012x efgh\")\n",
    "alignment_table = collate(collation, near_match=True, segmentation=False)\n",
    "print(alignment_table)"
   ]
  },
  {
   "cell_type": "markdown",
   "metadata": {},
   "source": [
    "## With near matching and three or more choices, the alignment is correct regardless"
   ]
  },
  {
   "cell_type": "markdown",
   "metadata": {},
   "source": [
    "### If the closest match is left, the candidate correctly always stays left"
   ]
  },
  {
   "cell_type": "code",
   "execution_count": 201,
   "metadata": {
    "collapsed": false
   },
   "outputs": [
    {
     "name": "stdout",
     "output_type": "stream",
     "text": [
      "+---+------+------+------+------+------+\n",
      "| A | abcd | 0123 | -    | -    | efgh |\n",
      "| B | abcd | 012x | 01xx | 0xxx | efgh |\n",
      "+---+------+------+------+------+------+\n"
     ]
    }
   ],
   "source": [
    "# Three candidates, closest is left, match rank 0 1 2 (0 is closest)\n",
    "collation = Collation()\n",
    "collation.add_plain_witness(\"A\", \"abcd 0123 efgh\")\n",
    "collation.add_plain_witness(\"B\", \"abcd 012x 01xx 0xxx efgh\")\n",
    "alignment_table = collate(collation, near_match=True, segmentation=False)\n",
    "print(alignment_table)"
   ]
  },
  {
   "cell_type": "code",
   "execution_count": 202,
   "metadata": {
    "collapsed": false
   },
   "outputs": [
    {
     "name": "stdout",
     "output_type": "stream",
     "text": [
      "+---+------+------+------+------+------+\n",
      "| A | abcd | 0123 | -    | -    | efgh |\n",
      "| B | abcd | 012x | 0xxx | 01xx | efgh |\n",
      "+---+------+------+------+------+------+\n"
     ]
    }
   ],
   "source": [
    "# Three candidates, closest is left, match rank 0 2 1 (0 is closest)\n",
    "collation = Collation()\n",
    "collation.add_plain_witness(\"A\", \"abcd 0123 efgh\")\n",
    "collation.add_plain_witness(\"B\", \"abcd 012x 0xxx 01xx efgh\")\n",
    "alignment_table = collate(collation, near_match=True, segmentation=False)\n",
    "print(alignment_table)"
   ]
  },
  {
   "cell_type": "markdown",
   "metadata": {},
   "source": [
    "### If the closest match is right, the candidate correctly always moves right"
   ]
  },
  {
   "cell_type": "code",
   "execution_count": 203,
   "metadata": {
    "collapsed": false
   },
   "outputs": [
    {
     "name": "stdout",
     "output_type": "stream",
     "text": [
      "+---+------+------+------+------+------+\n",
      "| A | abcd | -    | -    | 0123 | efgh |\n",
      "| B | abcd | 01xx | 0xxx | 012x | efgh |\n",
      "+---+------+------+------+------+------+\n"
     ]
    }
   ],
   "source": [
    "# Three candidates, closest is right, match rank 1 2 0 (0 is closest)\n",
    "collation = Collation()\n",
    "collation.add_plain_witness(\"A\", \"abcd 0123 efgh\")\n",
    "collation.add_plain_witness(\"B\", \"abcd 01xx 0xxx 012x efgh\")\n",
    "alignment_table = collate(collation, near_match=True, segmentation=False)\n",
    "print(alignment_table)"
   ]
  },
  {
   "cell_type": "code",
   "execution_count": 204,
   "metadata": {
    "collapsed": false
   },
   "outputs": [
    {
     "name": "stdout",
     "output_type": "stream",
     "text": [
      "+---+------+------+------+------+------+\n",
      "| A | abcd | -    | -    | 0123 | efgh |\n",
      "| B | abcd | 0xxx | 01xx | 012x | efgh |\n",
      "+---+------+------+------+------+------+\n"
     ]
    }
   ],
   "source": [
    "# Three candidates, closest is right, match rank 2 1 0 (0 is closest)\n",
    "collation = Collation()\n",
    "collation.add_plain_witness(\"A\", \"abcd 0123 efgh\")\n",
    "collation.add_plain_witness(\"B\", \"abcd 0xxx 01xx 012x efgh\")\n",
    "alignment_table = collate(collation, near_match=True, segmentation=False)\n",
    "print(alignment_table)"
   ]
  },
  {
   "cell_type": "markdown",
   "metadata": {},
   "source": [
    "### If the closest match is in the middle, the always correctly moves to the middle"
   ]
  },
  {
   "cell_type": "code",
   "execution_count": 205,
   "metadata": {
    "collapsed": false
   },
   "outputs": [
    {
     "name": "stdout",
     "output_type": "stream",
     "text": [
      "+---+------+------+------+------+------+\n",
      "| A | abcd | -    | 0123 | -    | efgh |\n",
      "| B | abcd | 01xx | 012x | 0xxx | efgh |\n",
      "+---+------+------+------+------+------+\n"
     ]
    }
   ],
   "source": [
    "# Three candidates, closest is middle, match rank 1 0 2 (0 is closest)\n",
    "collation = Collation()\n",
    "collation.add_plain_witness(\"A\", \"abcd 0123 efgh\")\n",
    "collation.add_plain_witness(\"B\", \"abcd 01xx 012x 0xxx efgh\")\n",
    "alignment_table = collate(collation, near_match=True, segmentation=False)\n",
    "print(alignment_table)"
   ]
  },
  {
   "cell_type": "code",
   "execution_count": 206,
   "metadata": {
    "collapsed": false
   },
   "outputs": [
    {
     "name": "stdout",
     "output_type": "stream",
     "text": [
      "+---+------+------+------+------+------+\n",
      "| A | abcd | -    | 0123 | -    | efgh |\n",
      "| B | abcd | 0xxx | 012x | 01xx | efgh |\n",
      "+---+------+------+------+------+------+\n"
     ]
    }
   ],
   "source": [
    "# Three candidates, closest is middle, match rank 2 0 1 (0 is closest)\n",
    "collation = Collation()\n",
    "collation.add_plain_witness(\"A\", \"abcd 0123 efgh\")\n",
    "collation.add_plain_witness(\"B\", \"abcd 0xxx 012x 01xx efgh\")\n",
    "alignment_table = collate(collation, near_match=True, segmentation=False)\n",
    "print(alignment_table)"
   ]
  },
  {
   "cell_type": "markdown",
   "metadata": {},
   "source": [
    "## Three witnesses, two of which have gaps\n",
    "We expect:\n",
    "\n",
    "    +---+------+--------+--------+--------+--------+--------+------+\n",
    "    | A | abcd | -      | -      | 012345 | -      |        | efgh |\n",
    "    | B | abcd | 0xxxxx | 01xxxx | 01234x | 012xxx | 0123xx | efgh |\n",
    "    | C | abcd | -      | 01xxxx | -      | -      | zz23xx | efgh |\n",
    "    +---+------+--------+--------+--------+--------+--------+------+"
   ]
  },
  {
   "cell_type": "code",
   "execution_count": 207,
   "metadata": {
    "collapsed": false
   },
   "outputs": [
    {
     "name": "stdout",
     "output_type": "stream",
     "text": [
      "Without near matching:\n",
      "+---+------+--------+--------+--------+--------+--------+------+\n",
      "| A | abcd | 012345 | -      | -      | -      | -      | efgh |\n",
      "| B | abcd | 0xxxxx | 01xxxx | 01234x | 012xxx | 0123xx | efgh |\n",
      "| C | abcd | -      | 01xxxx | zz23xx | -      | -      | efgh |\n",
      "+---+------+--------+--------+--------+--------+--------+------+\n",
      "Target output:\n",
      "+---+------+--------+--------+--------+--------+--------+------+\n",
      "| A | abcd | -      | -      | 012345 | -      | -      | efgh |\n",
      "| B | abcd | 0xxxxx | 01xxxx | 01234x | 012xxx | 0123xx | efgh |\n",
      "| C | abcd | -      | 01xxxx | -      | -      | zz23xx | efgh |\n",
      "+---+------+--------+--------+--------+--------+--------+------+\n",
      "With near matching:\n",
      "+---+------+--------+--------+--------+--------+--------+------+\n",
      "| A | abcd | -      | -      | 012345 | -      | -      | efgh |\n",
      "| B | abcd | 0xxxxx | 01xxxx | 01234x | 012xxx | 0123xx | efgh |\n",
      "| C | abcd | -      | 01xxxx | -      | -      | zz23xx | efgh |\n",
      "+---+------+--------+--------+--------+--------+--------+------+\n"
     ]
    }
   ],
   "source": [
    "%reload_ext autoreload\n",
    "%autoreload 2\n",
    "from collatex import *\n",
    "collation = Collation()\n",
    "collation.add_plain_witness(\"A\", \"abcd 012345 efgh\")\n",
    "collation.add_plain_witness(\"B\", \"abcd 0xxxxx 01xxxx 01234x 012xxx 0123xx efgh\")\n",
    "collation.add_plain_witness(\"C\", \"abcd 01xxxx zz23xx efgh\")\n",
    "exact = collate(collation, segmentation=False, near_match=False)\n",
    "print('Without near matching:')\n",
    "print(exact)\n",
    "print('Target output:')\n",
    "print(\"\"\"\\\n",
    "+---+------+--------+--------+--------+--------+--------+------+\n",
    "| A | abcd | -      | -      | 012345 | -      | -      | efgh |\n",
    "| B | abcd | 0xxxxx | 01xxxx | 01234x | 012xxx | 0123xx | efgh |\n",
    "| C | abcd | -      | 01xxxx | -      | -      | zz23xx | efgh |\n",
    "+---+------+--------+--------+--------+--------+--------+------+\"\"\")\n",
    "near = collate(collation, segmentation=False, near_match=True)\n",
    "print('With near matching:')\n",
    "print(near)"
   ]
  },
  {
   "cell_type": "code",
   "execution_count": 208,
   "metadata": {
    "collapsed": false
   },
   "outputs": [
    {
     "name": "stdout",
     "output_type": "stream",
     "text": [
      "Without near matching:\n",
      "+---+------+--------+--------+--------+--------+--------+------+\n",
      "| A | abcd | -      | 01234x | -      | -      | 0123xx | efgh |\n",
      "| B | abcd | 01xxxx | 01234x | 01234x | 012xxx | 0123xx | efgh |\n",
      "| C | abcd | 012345 | -      | -      | -      | -      | efgh |\n",
      "+---+------+--------+--------+--------+--------+--------+------+\n",
      "Target output:\n",
      "+---+------+--------+--------+--------+--------+--------+------+\n",
      "| A | abcd | -      | 01234x | -      | -      | 0123xx | efgh |\n",
      "| B | abcd | 01xxxx | 01234x | 01234x | 012xxx | 0123xx | efgh |\n",
      "| C | abcd | -      | 012345 | -      | -      | -      | efgh |\n",
      "+---+------+--------+--------+--------+--------+--------+------+\n",
      "+---+------+--------+--------+--------+--------+--------+------+\n",
      "| A | abcd | -      | 01234x | -      | -      | 0123xx | efgh |\n",
      "| B | abcd | 01xxxx | 01234x | 01234x | 012xxx | 0123xx | efgh |\n",
      "| C | abcd | -      | 012345 | -      | -      | -      | efgh |\n",
      "+---+------+--------+--------+--------+--------+--------+------+\n"
     ]
    }
   ],
   "source": [
    "%reload_ext autoreload\n",
    "%autoreload 2\n",
    "from collatex import *\n",
    "collation = Collation()\n",
    "collation.add_plain_witness(\"A\", \"abcd 01234x 0123xx efgh\")\n",
    "collation.add_plain_witness(\"B\", \"abcd 01xxxx 01234x 01234x 012xxx 0123xx efgh\")\n",
    "collation.add_plain_witness(\"C\", \"abcd 012345 efgh\")\n",
    "exact_table = collate(collation, segmentation=False, near_match=False)\n",
    "print('Without near matching:')\n",
    "print(exact_table)\n",
    "print('Target output:')\n",
    "print(\"\"\"\\\n",
    "+---+------+--------+--------+--------+--------+--------+------+\n",
    "| A | abcd | -      | 01234x | -      | -      | 0123xx | efgh |\n",
    "| B | abcd | 01xxxx | 01234x | 01234x | 012xxx | 0123xx | efgh |\n",
    "| C | abcd | -      | 012345 | -      | -      | -      | efgh |\n",
    "+---+------+--------+--------+--------+--------+--------+------+\"\"\")\n",
    "near_table = collate(collation, segmentation=False, near_match=True)\n",
    "print(near_table)"
   ]
  },
  {
   "cell_type": "code",
   "execution_count": null,
   "metadata": {
    "collapsed": true
   },
   "outputs": [],
   "source": []
  }
 ],
 "metadata": {
  "anaconda-cloud": {},
  "kernelspec": {
   "display_name": "Python [Root]",
   "language": "python",
   "name": "Python [Root]"
  },
  "language_info": {
   "codemirror_mode": {
    "name": "ipython",
    "version": 3
   },
   "file_extension": ".py",
   "mimetype": "text/x-python",
   "name": "python",
   "nbconvert_exporter": "python",
   "pygments_lexer": "ipython3",
   "version": "3.5.2"
  }
 },
 "nbformat": 4,
 "nbformat_minor": 0
}
